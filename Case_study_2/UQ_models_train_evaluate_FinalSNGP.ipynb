{
 "cells": [
  {
   "cell_type": "code",
   "execution_count": 2,
   "id": "678ad267",
   "metadata": {
    "scrolled": true
   },
   "outputs": [],
   "source": [
    "import os\n",
    "os.environ['TF_CPP_MIN_LOG_LEVEL'] = '5' \n",
    "import warnings\n",
    "warnings.filterwarnings(\"ignore\")\n",
    "\n",
    "import numpy as np\n",
    "import pandas as pd\n",
    "import matplotlib.pyplot as plt\n",
    "from progressbar import ProgressBar\n",
    "from sklearn.preprocessing import MinMaxScaler\n",
    "import scipy\n",
    "\n",
    "import tensorflow as tf\n",
    "from tensorflow import keras\n",
    "from tensorflow.keras.layers import Dense, Input, Reshape, Layer\n",
    "from tensorflow.keras.layers import Dropout, ReLU\n",
    "from tensorflow.keras.optimizers import SGD, Adam\n",
    "from tensorflow.keras.losses import MeanSquaredError\n",
    "\n",
    "# for SNGP\n",
    "import gpflow\n",
    "import gpflux\n",
    "from gpflow.config import default_float\n",
    "from lib.spectral_normalization import SpectralNormalization\n",
    "\n",
    "from tensorflow.keras import Model\n",
    "from sklearn.metrics import mean_absolute_error as mae\n",
    "\n",
    "plt.rcParams.update({'font.size': 18})"
   ]
  },
  {
   "cell_type": "markdown",
   "id": "c59923be",
   "metadata": {},
   "source": [
    "## Load the Capacity data\n",
    "- Three datasets: Train, Test1, Test2, Test3"
   ]
  },
  {
   "cell_type": "code",
   "execution_count": 3,
   "id": "f20fdd22",
   "metadata": {
    "scrolled": true
   },
   "outputs": [],
   "source": [
    "number_cells = [41,42,40,45] # train and three tests\n",
    "dataset = ['train', 'test1', 'test2', 'test3']\n",
    "\n",
    "all_Q_curves = pd.DataFrame()\n",
    "for myset in range(len(dataset)):\n",
    "    for cell in range(number_cells[myset]):\n",
    "        cell_Q = pd.read_csv(\"Dataset/discharge_capacity/\"+dataset[myset]+\"/cell\"+str(cell+1)+\".csv\", \n",
    "                               header = None, names=['cycle_no', 'capacity', 'initial_capacity'])\n",
    "        cell_Q['cell_no'] = cell+1 # cell number\n",
    "        cell_Q['norm_Q'] = cell_Q['capacity']/cell_Q['initial_capacity'].iloc[0] # cell number\n",
    "        cell_Q['dataset'] = dataset[myset]\n",
    "        all_Q_curves = pd.concat([all_Q_curves, cell_Q], axis=0)"
   ]
  },
  {
   "cell_type": "markdown",
   "id": "8b463bf0",
   "metadata": {},
   "source": [
    "## Load the VQ curve data\n",
    "\n",
    "### We will use VQ(cycle=100)-VQ(cycle=10) as feature to determine RUL"
   ]
  },
  {
   "cell_type": "code",
   "execution_count": 4,
   "id": "9c1c1ce8",
   "metadata": {},
   "outputs": [],
   "source": [
    "VQcol_names = [\"cycle_\"+str(i+1) for i in range(150)]\n",
    "all_VQ_curves = pd.DataFrame()\n",
    "for myset in range(len(dataset)):\n",
    "    for cell in range(number_cells[myset]):\n",
    "        cell_VQ = pd.read_csv(\"Dataset/V_Q_curve/\"+dataset[myset]+\"/cell\"+str(cell+1)+\".csv\", header = None,\n",
    "                               names=VQcol_names)\n",
    "        cell_VQ['voltage'] = np.linspace(3.5,2,cell_VQ.shape[0])\n",
    "        cell_VQ['diff_cycle100_cycle10'] = cell_VQ['cycle_100']-cell_VQ['cycle_10']\n",
    "        cell_VQ['cell_no'] = cell+1 # cell number\n",
    "        cell_VQ['dataset'] = dataset[myset]\n",
    "        all_VQ_curves = pd.concat([all_VQ_curves, cell_VQ], axis=0)"
   ]
  },
  {
   "cell_type": "code",
   "execution_count": 5,
   "id": "94f00afd",
   "metadata": {
    "scrolled": true
   },
   "outputs": [],
   "source": [
    "all_cycle_lives = pd.DataFrame()\n",
    "for myset in range(len(dataset)):\n",
    "    cycle_lives = pd.read_csv(\"Dataset/cycle_lives/\"+dataset[myset]+\"_cycle_lives.csv\", header = None,\n",
    "                             names=['cycle_life']).reset_index()\n",
    "    cycle_lives['cell_no'] = cycle_lives['index'] + 1\n",
    "    cycle_lives['dataset'] = dataset[myset]\n",
    "    \n",
    "    all_cycle_lives = pd.concat([all_cycle_lives, cycle_lives.drop('index', axis=1)], axis=0)"
   ]
  },
  {
   "cell_type": "code",
   "execution_count": 6,
   "id": "85e9472d",
   "metadata": {},
   "outputs": [],
   "source": [
    "all_VQ_curves_merge = pd.merge(all_VQ_curves, all_cycle_lives, how='left',\n",
    "                               left_on = ['dataset', 'cell_no'], right_on = ['dataset', 'cell_no'])\n",
    "all_VQ_curves_merge_agg = all_VQ_curves_merge.groupby(by=['cell_no', 'dataset']).agg({'diff_cycle100_cycle10':'var',\n",
    "                                                            'cycle_life': 'mean'}).reset_index()"
   ]
  },
  {
   "cell_type": "markdown",
   "id": "43650ee5",
   "metadata": {},
   "source": [
    "## Make Input-Output for training the UQ models\n",
    "Input:- VQ(100)-VQ(10)\n",
    "\n",
    "Output:- cycle life"
   ]
  },
  {
   "cell_type": "code",
   "execution_count": 7,
   "id": "e782c9fe",
   "metadata": {},
   "outputs": [],
   "source": [
    "def get_input_output(df, myset):\n",
    "    df_myset = df.loc[df['dataset']==myset]\n",
    "    X, Y = [], []\n",
    "    for mycell in sorted(set(df_myset['cell_no'])):\n",
    "        X.append(df_myset.loc[df_myset['cell_no']==mycell].sort_values(\n",
    "            by='voltage', ascending = False, axis = 0)['diff_cycle100_cycle10'].values)\n",
    "        Y.append(df_myset.loc[df_myset['cell_no']==mycell]['cycle_life'].mean())\n",
    "    return X, np.expand_dims(Y, axis=1)"
   ]
  },
  {
   "cell_type": "code",
   "execution_count": 8,
   "id": "a88dece9",
   "metadata": {},
   "outputs": [],
   "source": [
    "Xtrain, Ytrain = get_input_output(all_VQ_curves_merge, 'train')\n",
    "Xtest1, Ytest1 = get_input_output(all_VQ_curves_merge, 'test1')\n",
    "Xtest2, Ytest2 = get_input_output(all_VQ_curves_merge, 'test2')\n",
    "Xtest3, Ytest3 = get_input_output(all_VQ_curves_merge, 'test3')\n",
    "\n",
    "scalerX = MinMaxScaler()\n",
    "Xtrain_norm, Ytrain_norm  = scalerX.fit_transform(Xtrain), (Ytrain)/np.max(Ytrain)\n",
    "Xtest1_norm, Ytest1_norm  = scalerX.transform(Xtest1), (Ytest1)/np.max(Ytrain)\n",
    "Xtest2_norm, Ytest2_norm  = scalerX.transform(Xtest2), (Ytest2)/np.max(Ytrain)\n",
    "Xtest3_norm, Ytest3_norm  = scalerX.transform(Xtest3), (Ytest3)/np.max(Ytrain)"
   ]
  },
  {
   "cell_type": "markdown",
   "id": "6358172e",
   "metadata": {},
   "source": [
    "## Common functions definitions"
   ]
  },
  {
   "cell_type": "code",
   "execution_count": 10,
   "id": "8ab9b943",
   "metadata": {},
   "outputs": [],
   "source": [
    "# Get calibration curves\n",
    "def get_confidence_interval(y_true, mu, sigma):\n",
    "    alphas = np.linspace(1e-10, 1-1e-10, 1000)\n",
    "    myCI=[]\n",
    "    for myalpha in sorted(alphas):\n",
    "        intervals = scipy.stats.norm.interval(alpha=myalpha, loc=mu, scale=sigma)\n",
    "        lower_bd = intervals[0]\n",
    "        upper_bd = intervals[1]\n",
    "        myCI.append(np.sum((y_true > lower_bd) & (y_true < upper_bd))/len(y_true))\n",
    "    \n",
    "    return 100*alphas, 100*np.array(myCI)  # converting to percentages"
   ]
  },
  {
   "cell_type": "markdown",
   "id": "58d81620",
   "metadata": {},
   "source": [
    "## SNGP\n",
    "\n",
    "distance-aware based\n",
    "\n",
    " - spectral normalization from keras layers\n",
    " - gaussian process from gpflow, gpflux libraries\n",
    "\n",
    "(inspiration from https://secondmind-labs.github.io/GPflux/notebooks/gpflux_with_keras_layers.html and https://www.tensorflow.org/tutorials/understanding/sngp)\n",
    "\n",
    "edited source file envs/py3/lib/python3.10/site-packages/gpflux/layers/gp_layer.py\n",
    "line 212 from num_inducing ->  num_inducing.numpy()"
   ]
  },
  {
   "cell_type": "code",
   "execution_count": 11,
   "id": "8e234706",
   "metadata": {
    "scrolled": true
   },
   "outputs": [],
   "source": [
    "def generate_trained_SNGPmodel(trainX, trainY, nepochs, actfn = 'sigmoid'):\n",
    "    # define Gaussian layer\n",
    "    num_data = len(trainX)\n",
    "    num_inducing = 20\n",
    "    output_dim = trainY.shape[1]\n",
    "\n",
    "    kernel = gpflow.kernels.SquaredExponential()\n",
    "    inducing_variable = gpflow.inducing_variables.InducingPoints(\n",
    "        np.linspace(trainX.min(), trainY.min(), num_inducing).reshape(-1, 1)\n",
    "    )\n",
    "    gp_layer = gpflux.layers.GPLayer(\n",
    "        kernel, inducing_variable, num_data=num_data, num_latent_gps=output_dim\n",
    "    )\n",
    "\n",
    "    likelihood = gpflow.likelihoods.Gaussian(0.1)\n",
    "\n",
    "    # So that Keras can track the likelihood variance, we need to provide the likelihood as part of a \"dummy\" layer:\n",
    "    likelihood_container = gpflux.layers.TrackableLayer()\n",
    "    likelihood_container.likelihood = likelihood\n",
    "\n",
    "    # define model\n",
    "    model = tf.keras.Sequential(\n",
    "        [\n",
    "            SpectralNormalization(Dense(100, activation=actfn), norm_multiplier=0.9),\n",
    "            SpectralNormalization(Dense(10, activation=actfn), norm_multiplier=0.9),\n",
    "            SpectralNormalization(Dense(1, activation=actfn), norm_multiplier=0.9),\n",
    "            gp_layer,\n",
    "            likelihood_container,  # no-op, for discovering trainable likelihood parameters\n",
    "        ]\n",
    "    )\n",
    "    loss = gpflux.losses.LikelihoodLoss(likelihood)\n",
    "    model.compile(loss=loss, optimizer=\"adam\")\n",
    "    hist= model.fit(trainX, trainY, epochs=nepochs, verbose=0)\n",
    "#     plt.plot(hist.history[\"loss\"])\n",
    "    return model\n"
   ]
  },
  {
   "cell_type": "code",
   "execution_count": 21,
   "id": "906f8798",
   "metadata": {},
   "outputs": [
    {
     "name": "stderr",
     "output_type": "stream",
     "text": [
      "100% |#########################################################################|\n"
     ]
    }
   ],
   "source": [
    "# Single run through\n",
    "nmodels = 1 # train models and select the best out of these\n",
    "all_models_SNGP=[]\n",
    "all_mae_train_SNGP = np.zeros(nmodels,)\n",
    "pbar = ProgressBar()\n",
    "for i in pbar(range(nmodels)):\n",
    "    model_SNGP = generate_trained_SNGPmodel(Xtrain_norm, Ytrain_norm, 1000, 'sigmoid')\n",
    "    f_distribution = model_SNGP(Xtrain_norm)\n",
    "    mean = f_distribution.mean().numpy()*(np.max(Ytrain))\n",
    "    all_mae_train_SNGP[i] = mae(mean, Ytrain)\n",
    "    all_models_SNGP.append(model_SNGP)"
   ]
  },
  {
   "cell_type": "code",
   "execution_count": 22,
   "id": "eaa10ce7",
   "metadata": {},
   "outputs": [
    {
     "name": "stdout",
     "output_type": "stream",
     "text": [
      "Train MAE:  186.85253111053763\n",
      "Test1 MAE:  227.9769322099894\n",
      "Test2 MAE:  350.039661187169\n",
      "Test3 MAE:  152.39622010201785\n"
     ]
    }
   ],
   "source": [
    "select_modelSNGP = all_models_SNGP[np.argmin(all_mae_train_SNGP)]\n",
    "print(\"Train MAE: \", mae(model_SNGP(Xtrain_norm).mean().numpy()*(np.max(Ytrain)), Ytrain))\n",
    "print(\"Test1 MAE: \", mae(model_SNGP(Xtest1_norm).mean().numpy()*(np.max(Ytrain)), Ytest1))\n",
    "print(\"Test2 MAE: \", mae(model_SNGP(Xtest2_norm).mean().numpy()*(np.max(Ytrain)), Ytest2))\n",
    "print(\"Test3 MAE: \", mae(model_SNGP(Xtest3_norm).mean().numpy()*(np.max(Ytrain)), Ytest3))"
   ]
  },
  {
   "cell_type": "code",
   "execution_count": 23,
   "id": "8797073b",
   "metadata": {},
   "outputs": [],
   "source": [
    "# single run\n",
    "allresults_SNGPdf = pd.DataFrame()\n",
    "for myset in dataset:\n",
    "    exec(\"Xnorm =X\"+myset+\"_norm\")\n",
    "    exec(\"Y =Y\"+myset)\n",
    "\n",
    "    result_df = pd.DataFrame(Y, columns = ['True'])\n",
    "    result_df['dataset'] = myset\n",
    "    result_df[\"SNGP_mu_eff\"] = model_SNGP(Xnorm).mean().numpy()\n",
    "    result_df[\"SNGP_sigma_eff\"] = np.sqrt(model_SNGP(Xnorm).variance().numpy() + \n",
    "                                   model_SNGP.layers[-1].likelihood.variance.numpy())\n",
    "\n",
    "    allresults_SNGPdf = pd.concat([allresults_SNGPdf, result_df], axis = 0)\n",
    "\n",
    "allresults_SNGPdf[\"SNGP_mu_eff\"] = allresults_SNGPdf[\"SNGP_mu_eff\"]*(np.max(Ytrain))\n",
    "allresults_SNGPdf[\"SNGP_sigma_eff\"] = allresults_SNGPdf[\"SNGP_sigma_eff\"]*(np.max(Ytrain))"
   ]
  },
  {
   "cell_type": "code",
   "execution_count": 24,
   "id": "bbf3ac63",
   "metadata": {},
   "outputs": [
    {
     "data": {
      "text/html": [
       "<div>\n",
       "<style scoped>\n",
       "    .dataframe tbody tr th:only-of-type {\n",
       "        vertical-align: middle;\n",
       "    }\n",
       "\n",
       "    .dataframe tbody tr th {\n",
       "        vertical-align: top;\n",
       "    }\n",
       "\n",
       "    .dataframe thead th {\n",
       "        text-align: right;\n",
       "    }\n",
       "</style>\n",
       "<table border=\"1\" class=\"dataframe\">\n",
       "  <thead>\n",
       "    <tr style=\"text-align: right;\">\n",
       "      <th></th>\n",
       "      <th>True</th>\n",
       "      <th>dataset</th>\n",
       "      <th>SNGP_mu_eff</th>\n",
       "      <th>SNGP_sigma_eff</th>\n",
       "    </tr>\n",
       "  </thead>\n",
       "  <tbody>\n",
       "    <tr>\n",
       "      <th>0</th>\n",
       "      <td>2160.0</td>\n",
       "      <td>train</td>\n",
       "      <td>732.530100</td>\n",
       "      <td>492.422797</td>\n",
       "    </tr>\n",
       "    <tr>\n",
       "      <th>1</th>\n",
       "      <td>1434.0</td>\n",
       "      <td>train</td>\n",
       "      <td>700.439790</td>\n",
       "      <td>487.050402</td>\n",
       "    </tr>\n",
       "    <tr>\n",
       "      <th>2</th>\n",
       "      <td>1074.0</td>\n",
       "      <td>train</td>\n",
       "      <td>683.445777</td>\n",
       "      <td>485.784283</td>\n",
       "    </tr>\n",
       "    <tr>\n",
       "      <th>3</th>\n",
       "      <td>870.0</td>\n",
       "      <td>train</td>\n",
       "      <td>666.458721</td>\n",
       "      <td>485.660651</td>\n",
       "    </tr>\n",
       "    <tr>\n",
       "      <th>4</th>\n",
       "      <td>788.0</td>\n",
       "      <td>train</td>\n",
       "      <td>711.255151</td>\n",
       "      <td>488.434752</td>\n",
       "    </tr>\n",
       "    <tr>\n",
       "      <th>...</th>\n",
       "      <td>...</td>\n",
       "      <td>...</td>\n",
       "      <td>...</td>\n",
       "      <td>...</td>\n",
       "    </tr>\n",
       "    <tr>\n",
       "      <th>40</th>\n",
       "      <td>872.0</td>\n",
       "      <td>test3</td>\n",
       "      <td>676.229961</td>\n",
       "      <td>485.590416</td>\n",
       "    </tr>\n",
       "    <tr>\n",
       "      <th>41</th>\n",
       "      <td>837.0</td>\n",
       "      <td>test3</td>\n",
       "      <td>668.760949</td>\n",
       "      <td>485.609386</td>\n",
       "    </tr>\n",
       "    <tr>\n",
       "      <th>42</th>\n",
       "      <td>775.0</td>\n",
       "      <td>test3</td>\n",
       "      <td>704.327588</td>\n",
       "      <td>487.496988</td>\n",
       "    </tr>\n",
       "    <tr>\n",
       "      <th>43</th>\n",
       "      <td>751.0</td>\n",
       "      <td>test3</td>\n",
       "      <td>669.906171</td>\n",
       "      <td>485.591878</td>\n",
       "    </tr>\n",
       "    <tr>\n",
       "      <th>44</th>\n",
       "      <td>943.0</td>\n",
       "      <td>test3</td>\n",
       "      <td>679.675047</td>\n",
       "      <td>485.657105</td>\n",
       "    </tr>\n",
       "  </tbody>\n",
       "</table>\n",
       "<p>168 rows × 4 columns</p>\n",
       "</div>"
      ],
      "text/plain": [
       "      True dataset  SNGP_mu_eff  SNGP_sigma_eff\n",
       "0   2160.0   train   732.530100      492.422797\n",
       "1   1434.0   train   700.439790      487.050402\n",
       "2   1074.0   train   683.445777      485.784283\n",
       "3    870.0   train   666.458721      485.660651\n",
       "4    788.0   train   711.255151      488.434752\n",
       "..     ...     ...          ...             ...\n",
       "40   872.0   test3   676.229961      485.590416\n",
       "41   837.0   test3   668.760949      485.609386\n",
       "42   775.0   test3   704.327588      487.496988\n",
       "43   751.0   test3   669.906171      485.591878\n",
       "44   943.0   test3   679.675047      485.657105\n",
       "\n",
       "[168 rows x 4 columns]"
      ]
     },
     "execution_count": 24,
     "metadata": {},
     "output_type": "execute_result"
    }
   ],
   "source": [
    "allresults_SNGPdf"
   ]
  },
  {
   "cell_type": "code",
   "execution_count": 17,
   "id": "3a3db578",
   "metadata": {},
   "outputs": [
    {
     "data": {
      "text/plain": [
       "<matplotlib.legend.Legend at 0x7f3c6d19d5a0>"
      ]
     },
     "execution_count": 17,
     "metadata": {},
     "output_type": "execute_result"
    },
    {
     "data": {
      "image/png": "[encoded data removed]",
      "text/plain": [
       "<Figure size 576x432 with 1 Axes>"
      ]
     },
     "metadata": {
      "needs_background": "light"
     },
     "output_type": "display_data"
    }
   ],
   "source": [
    "# plot the calibration curve\n",
    "allresults_SNGPdf_train = allresults_SNGPdf.loc[allresults_SNGPdf['dataset']=='train']\n",
    "\n",
    "alphas, CI_DE = get_confidence_interval(allresults_SNGPdf_train['True'].values, \n",
    "                                       allresults_SNGPdf_train['SNGP_mu_eff'].values, \n",
    "                                       allresults_SNGPdf_train['SNGP_sigma_eff'].values)\n",
    "fig = plt.figure(figsize=(8,6))\n",
    "plt.plot(alphas,CI_DE, color = 'blue', label='MC Dropout')\n",
    "plt.plot([0,100],[0,100], color='black', linestyle='dashed', label='Ideal')\n",
    "plt.xlabel('Expected Confidence')\n",
    "plt.ylabel('Precited Confidence')\n",
    "plt.legend()"
   ]
  },
  {
   "cell_type": "code",
   "execution_count": 33,
   "id": "a3e938e2",
   "metadata": {},
   "outputs": [
    {
     "name": "stderr",
     "output_type": "stream",
     "text": [
      "100% |#########################################################################|\n"
     ]
    }
   ],
   "source": [
    "model_train_bool = True\n",
    "if model_train_bool:\n",
    "    nmodels = 3 # total models trained and best one picked\n",
    "    niter = 10\n",
    "\n",
    "    allCI_SNGP = np.zeros((1000, niter))\n",
    "    pbar=ProgressBar()\n",
    "    allresults_SNGPdf = pd.DataFrame()\n",
    "\n",
    "    for myiter in pbar(range(niter)): # for each independent iteration\n",
    "        all_models_SNGP=[]\n",
    "        all_mae_train_SNGP = np.zeros(nmodels,)\n",
    "        for i in range(nmodels): # train multiple models to select the best\n",
    "            model_SNGP = generate_trained_SNGPmodel(Xtrain_norm, Ytrain_norm, 1000, 'sigmoid')\n",
    "            f_distribution = model_SNGP(Xtrain_norm)\n",
    "            mean = f_distribution.mean().numpy()*(np.max(Ytrain))\n",
    "            all_mae_train_SNGP[i] = mae(mean, Ytrain)\n",
    "            all_models_SNGP.append(model_SNGP)\n",
    "\n",
    "        select_modelSNGP = all_models_SNGP[np.argmin(all_mae_train_SNGP)] # best model\n",
    "\n",
    "        for myset in dataset:\n",
    "            exec(\"Xnorm =X\"+myset+\"_norm\")\n",
    "            exec(\"Y =Y\"+myset)\n",
    "\n",
    "            result_df = pd.DataFrame(Y, columns = ['True'])\n",
    "            result_df['dataset'] = myset\n",
    "            result_df[\"SNGP_mu_eff\"] = select_modelSNGP(Xnorm).mean().numpy()*(np.max(Ytrain))\n",
    "            result_df[\"SNGP_sigma_eff\"] = np.sqrt(select_modelSNGP(Xnorm).variance().numpy() + \n",
    "                                           select_modelSNGP.layers[-1].likelihood.variance.numpy())*(np.max(Ytrain))\n",
    "            result_df['iteration'] = myiter\n",
    "            allresults_SNGPdf = pd.concat([allresults_SNGPdf, result_df], axis = 0)\n",
    "               \n",
    "    allresults_SNGPdf.to_excel(\"SNGP_battery_prediction_results.xlsx\")  \n",
    "else:\n",
    "    allresults_SNGPdf=pd.read_excel(\"SNGP_battery_prediction_results.xlsx\")  "
   ]
  },
  {
   "cell_type": "code",
   "execution_count": null,
   "id": "dd59f3d7",
   "metadata": {},
   "outputs": [],
   "source": []
  }
 ],
 "metadata": {
  "kernelspec": {
   "display_name": "Python 3 (ipykernel)",
   "language": "python",
   "name": "python3"
  },
  "language_info": {
   "codemirror_mode": {
    "name": "ipython",
    "version": 3
   },
   "file_extension": ".py",
   "mimetype": "text/x-python",
   "name": "python",
   "nbconvert_exporter": "python",
   "pygments_lexer": "ipython3",
   "version": "3.10.2"
  }
 },
 "nbformat": 4,
 "nbformat_minor": 5
}
